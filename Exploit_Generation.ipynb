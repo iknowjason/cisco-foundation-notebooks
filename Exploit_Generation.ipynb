{
 "cells": [
  {
   "cell_type": "markdown",
   "metadata": {},
   "source": [
    "# Exploit Analysis with SageMaker Endpoint\n",
    "\n",
    "Move beyond just identifying exposed assets or CVEs — leverage a powerful uncensored AI model to simulate how each vulnerability could realistically be exploited. This notebook uses a deployed SageMaker endpoint for inference instead of loading the model locally.\n",
    "\n",
    "## Model\n",
    "Both Instruct Model and Reasoning Model are suitable for this use case. In this example, we assume you have deployed the Reasoning Model as a SageMaker endpoint."
   ]
  },
  {
   "cell_type": "markdown",
   "metadata": {},
   "source": [
    "## Configuration\n",
    "Update these variables to match your SageMaker deployment:"
   ]
  },
  {
   "cell_type": "code",
   "execution_count": null,
   "metadata": {},
   "outputs": [],
   "source": [
    "endpoint_name = 'your-sagemaker-endpoint'  # Replace with your endpoint name\n",
    "aws_region = 'us-east-1'                  # Replace with your AWS region\n",
    "\n",
    "print(\"Configuration loaded:\")\n",
    "print(f\"Endpoint: {endpoint_name}\")\n",
    "print(f\"Region: {aws_region}\")"
   ]
  },
  {
   "cell_type": "markdown",
   "metadata": {},
   "source": [
    "## Setup\n",
    "Initialize the SageMaker runtime client."
   ]
  },
  {
   "cell_type": "code",
   "execution_count": null,
   "metadata": {},
   "outputs": [],
   "source": [
    "import boto3\n",
    "import json\n",
    "import re\n",
    "from IPython.display import display, Markdown\n",
    "\n",
    "sagemaker_runtime = boto3.client('sagemaker-runtime', region_name=aws_region)\n",
    "print(f\"Connected to SageMaker endpoint: {endpoint_name}\")"
   ]
  },
  {
   "cell_type": "markdown",
   "metadata": {},
   "source": [
    "## Generation Configuration\n",
    "These parameters control how the model generates responses."
   ]
  },
  {
   "cell_type": "code",
   "execution_count": null,
   "metadata": {},
   "outputs": [],
   "source": [
    "generation_args = {\n",
    "    \"max_new_tokens\": 1024,\n",
    "    \"temperature\": None,\n",
    "    \"repetition_penalty\": 1.2,\n",
    "    \"do_sample\": False,\n",
    "    \"use_cache\": True\n",
    "}\n",
    "print(\"Generation args set:\", generation_args)"
   ]
  },
  {
   "cell_type": "markdown",
   "metadata": {},
   "source": [
    "## Inference Function\n",
    "This function sends prompts to the SageMaker endpoint and returns generated text."
   ]
  },
  {
   "cell_type": "code",
   "execution_count": null,
   "metadata": {},
   "outputs": [],
   "source": [
    "def inference(prompt):\n",
    "    payload = {\n",
    "        \"inputs\": prompt,\n",
    "        \"parameters\": generation_args\n",
    "    }\n",
    "    try:\n",
    "        response = sagemaker_runtime.invoke_endpoint(\n",
    "            EndpointName=endpoint_name,\n",
    "            ContentType='application/json',\n",
    "            Body=json.dumps(payload)\n",
    "        )\n",
    "        result = json.loads(response['Body'].read().decode())\n",
    "\n",
    "        # Handle TGI response format\n",
    "        if isinstance(result, list) and len(result) > 0:\n",
    "            generated_text = result[0].get('generated_text', '')\n",
    "        elif isinstance(result, dict):\n",
    "            generated_text = result.get('generated_text', str(result))\n",
    "        else:\n",
    "            generated_text = str(result)\n",
    "\n",
    "        # Strip trailing tokens\n",
    "        generated_text = re.sub(r'<\\|.*?\\|>$', '', generated_text).strip()\n",
    "        return generated_text\n",
    "\n",
    "    except Exception as e:\n",
    "        return f\"Error invoking endpoint: {str(e)}\"\n",
    "\n",
    "# Quick test\n",
    "print(inference(\"Hello from security researcher\"))"
   ]
  },
  {
   "cell_type": "markdown",
   "metadata": {},
   "source": [
    "## Exploit Analysis Functions"
   ]
  },
  {
   "cell_type": "code",
   "execution_count": null,
   "metadata": {},
   "outputs": [],
   "source": [
    "def make_prompt(vuln_description):\n",
    "    return f\"\"\"You are a security researcher. Analyze the following vulnerability report and generate:\n",
    "    \n",
    "1. A concise summary of the issue.\n",
    "2. Potential impact and affected components.\n",
    "3. A safe, hypothetical proof-of-concept exploit (for testing only).\n",
    "\n",
    "## VULNERABILITY DESCRIPTION\n",
    "{vuln_description}\n",
    "\n",
    "Ensure the response is for red team / security testing only — no real-world systems or harm implied.\"\"\""
   ]
  },
  {
   "cell_type": "markdown",
   "metadata": {},
   "source": [
    "## Example: CVE-2021-44228 (Log4Shell)"
   ]
  },
  {
   "cell_type": "code",
   "execution_count": null,
   "metadata": {},
   "outputs": [],
   "source": [
    "vuln_description = \"\"\"\n",
    "CVE-2021-44228: Log4Shell Remote Code Execution in Apache Log4j\n",
    "\n",
    "Description:\n",
    "A critical remote code execution vulnerability exists in Apache Log4j versions 2.0 to 2.14.1. This flaw allows a remote attacker to execute arbitrary code on the affected system by sending specifically crafted JNDI lookup strings through various input vectors. ...\n",
    "\"\"\"\n",
    "\n",
    "response = inference(make_prompt(vuln_description))\n",
    "display(Markdown(response))"
   ]
  }
 ],
 "metadata": {
  "kernelspec": {
   "display_name": "Python 3 (ipykernel)",
   "language": "python",
   "name": "python3\"\n"
  },
  "language_info": {\n",
    "name": "python\",\n",
    "version": "3.10.12\"\n"
  }
 },
 "nbformat": 4,
 "nbformat_minor": 4
}
