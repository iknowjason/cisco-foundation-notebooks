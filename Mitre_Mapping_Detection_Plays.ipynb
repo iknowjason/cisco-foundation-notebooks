{
 "cells": [
  {
   "cell_type": "markdown",
   "metadata": {
    "id": "AI5ozM2h2Nva"
   },
   "source": [
    "# Use Case Description\n",
    "\n",
    "Security teams often write detection rules or response playbooks (e.g., for SIEMs, SOAR platforms, or XDRs) but struggle to systematically map them to the right MITRE ATT&CK techniques. This limits the organization's visibility into detection coverage and hinders frameworks like D3FEND, ATT&CK Navigator, and threat-informed defense.\n",
    "\n",
    "The goal is to automatically analyze each detection play's logic, objective, and context — and match it to the most relevant ATT&CK technique(s) with high confidence.\n",
    "\n",
    "## Model used for this use case\n",
    "Both Instruct Model and Reasoning Model can be used, but Instruct Model could work better as no complex reasoning is involved. In this example, we used the Instruct Model via SageMaker endpoint.\n",
    "\n",
    "**Note**: Update the configuration variables below to match your deployment."
   ]
  },
  {
   "cell_type": "markdown",
   "metadata": {},
   "source": [
    "## Configuration\n",
    "Update these variables to match your SageMaker deployment:"
   ]
  },
  {
   "cell_type": "code",
   "execution_count": null,
   "metadata": {},
   "outputs": [],
   "source": [
    "# Update these variables to match your deployment\n",
    "endpoint_name = 'foundation-sec-8b-endpoint'\n",
    "aws_region = 'us-east-1'\n",
    "\n",
    "print(f\"Configuration:\")\n",
    "print(f\"Endpoint: {endpoint_name}\")\n",
    "print(f\"Region: {aws_region}\")"
   ]
  },
  {
   "cell_type": "markdown",
   "metadata": {},
   "source": [
    "## SetUp\n",
    "\n",
    "The setup uses SageMaker endpoint instead of loading the model locally."
   ]
  },
  {
   "cell_type": "code",
   "execution_count": null,
   "metadata": {
    "id": "BPloud0h2LI9"
   },
   "outputs": [],
   "source": [
    "import boto3\n",
    "import json\n",
    "import re\n",
    "from IPython.display import display, Markdown\n",
    "\n",
    "# Initialize SageMaker runtime client\n",
    "sagemaker_runtime = boto3.client('sagemaker-runtime', region_name=aws_region)\n",
    "\n",
    "print(f\"Connected to SageMaker endpoint: {endpoint_name}\")"
   ]
  },
  {
   "cell_type": "code",
   "execution_count": null,
   "metadata": {
    "id": "v46D7fgiBNZF"
   },
   "outputs": [],
   "source": [
    "# Generation arguments for reproducible outputs\n",
    "generation_args = {\n",
    "    \"max_new_tokens\": 512,\n",
    "    \"temperature\": None,  # None means deterministic (temperature=0)\n",
    "    \"repetition_penalty\": 1.2,\n",
    "    \"do_sample\": False,   # Deterministic sampling\n",
    "    \"use_cache\": True,\n",
    "}\n",
    "\n",
    "print(\"Generation configuration:\")\n",
    "for key, value in generation_args.items():\n",
    "    print(f\"  {key}: {value}\")"
   ]
  },
  {
   "cell_type": "code",
   "execution_count": null,
   "metadata": {},
   "outputs": [],
   "source": [
    "def inference(prompt, system_prompt):\n",
    "    \"\"\"Inference function using SageMaker endpoint\"\"\"\n",
    "    \n",
    "    # Format the conversation for the model\n",
    "    formatted_prompt = f\"System: {system_prompt}\\n\\nUser: {prompt}\\n\\nAssistant: \"\n",
    "    \n",
    "    # Prepare payload for SageMaker endpoint\n",
    "    payload = {\n",
    "        \"inputs\": formatted_prompt,\n",
    "        \"parameters\": generation_args\n",
    "    }\n",
    "    \n",
    "    try:\n",
    "        response = sagemaker_runtime.invoke_endpoint(\n",
    "            EndpointName=endpoint_name,\n",
    "            ContentType='application/json',\n",
    "            Body=json.dumps(payload)\n",
    "        )\n",
    "        \n",
    "        result = json.loads(response['Body'].read().decode())\n",
    "        \n",
    "        # Handle different TGI response formats\n",
    "        if isinstance(result, list) and len(result) > 0:\n",
    "            generated_text = result[0].get('generated_text', '')\n",
    "        elif isinstance(result, dict):\n",
    "            generated_text = result.get('generated_text', str(result))\n",
    "        else:\n",
    "            generated_text = str(result)\n",
    "        \n",
    "        # Clean up the response (remove the original prompt if it's included)\n",
    "        if generated_text.startswith(formatted_prompt):\n",
    "            response_text = generated_text[len(formatted_prompt):].strip()\n",
    "        else:\n",
    "            response_text = generated_text.strip()\n",
    "            \n",
    "        # Remove any trailing special tokens\n",
    "        response_text = re.sub(r'<\\|.*?\\|>$', '', response_text).strip()\n",
    "        \n",
    "        return response_text\n",
    "        \n",
    "    except Exception as e:\n",
    "        print(f\"Error invoking endpoint: {str(e)}\")\n",
    "        return f\"Error: {str(e)}\"\n",
    "\n",
    "# Test the inference function\n",
    "test_response = inference(\"Hello, can you help with MITRE ATT&CK mapping?\", \"You are a cybersecurity analyst.\")\n",
    "print(\"Test Response:\")\n",
    "print(test_response)"
   ]
  },
  {
   "cell_type": "markdown",
   "metadata": {
    "id": "yBOR3_hl8bIG"
   },
   "source": [
    "## MITRE Mapping Detection Plays"
   ]
  },
  {
   "cell_type": "code",
   "execution_count": null,
   "metadata": {},
   "outputs": [],
   "source": [
    "SYSTEM_PROMPT = \"You are a cybersecurity analyst provided with a series of threat detection plays. Each play includes its name and a short objective.\"\n",
    "\n",
    "def make_prompt(detection_plays):\n",
    "    return f'''Your task: For each detection play, map it to the most relevant MITRE ATT&CK technique. Include:\n",
    "    1. MITRE technique ID and name\n",
    "    2. Justification for the mapping\n",
    "    \n",
    "    ## DETECTION PLAYS\n",
    "    {detection_plays}\n",
    "    \n",
    "    Respond in a structured format:\n",
    "    - Play Name: <name>\n",
    "    - MITRE Technique: <TXXXX: Technique Name>\n",
    "    - Reason: <why it's a fit>'''\n",
    "\n",
    "print(\"MITRE mapping functions ready!\")"
   ]
  },
  {
   "cell_type": "code",
   "execution_count": null,
   "metadata": {
    "id": "tP9VmFIK8r4_"
   },
   "outputs": [],
   "source": [
    "detection_plays = \"\"\"\n",
    "- Name: Monitor Multiple Failed Login Attempts\n",
    "  Objective: Detect brute-force attacks on user accounts by tracking repeated login failures.\n",
    "\n",
    "- Name: Alert on PowerShell Script Execution\n",
    "  Objective: Detect execution of potentially malicious PowerShell scripts by adversaries.\n",
    "\n",
    "- Name: Dumping LSASS credentials\n",
    "  Objective: Alert when attempts are made to dump credentials from LSASS process memory\n",
    "\"\"\"\n",
    "\n",
    "print(\"Sample detection plays loaded!\")"
   ]
  },
  {
   "cell_type": "code",
   "execution_count": null,
   "metadata": {
    "id": "OBsrE5qd9CFd"
   },
   "outputs": [],
   "source": [
    "print(\"=== MITRE ATT&CK MAPPING ANALYSIS ===\")\n",
    "response = inference(make_prompt(detection_plays), SYSTEM_PROMPT)\n",
    "display(Markdown(response))"
   ]
  },
  {
   "cell_type": "markdown",
   "metadata": {},
   "source": [
    "## Advanced MITRE Mapping\n",
    "\n",
    "Let's try with more complex detection plays:"
   ]
  },
  {
   "cell_type": "code",
   "execution_count": null,
   "metadata": {},
   "outputs": [],
   "source": [
    "advanced_detection_plays = \"\"\"\n",
    "- Name: Detect Suspicious Registry Modifications\n",
    "  Objective: Monitor for unauthorized changes to critical Windows registry keys that could indicate persistence mechanisms.\n",
    "\n",
    "- Name: Network Lateral Movement Detection\n",
    "  Objective: Identify unusual network connections between internal hosts that may indicate lateral movement.\n",
    "\n",
    "- Name: Process Injection Detection\n",
    "  Objective: Detect when one process injects code into another process, which is commonly used by malware.\n",
    "\n",
    "- Name: Data Exfiltration via DNS\n",
    "  Objective: Monitor for anomalous DNS queries that may be used to exfiltrate sensitive data.\n",
    "\n",
    "- Name: Living off the Land Binary Usage\n",
    "  Objective: Detect misuse of legitimate system binaries for malicious purposes.\n",
    "\"\"\"\n",
    "\n",
    "print(\"=== ADVANCED MITRE ATT&CK MAPPING ===\")\n",
    "advanced_response = inference(make_prompt(advanced_detection_plays), SYSTEM_PROMPT)\n",
    "display(Markdown(advanced_response))"
   ]
  },
  {
   "cell_type": "markdown",
   "metadata": {},
   "source": [
    "## Custom Detection Play Analysis\n",
    "\n",
    "Add your own detection plays for analysis:"
   ]
  },
  {
   "cell_type": "code",
   "execution_count": null,
   "metadata": {},
   "outputs": [],
   "source": [
    "# Add your own detection plays here\n",
    "custom_detection_plays = \"\"\"\n",
    "# Add your detection plays in this format:\n",
    "# - Name: Your Detection Play Name\n",
    "#   Objective: Description of what this detection aims to identify\n",
    "# \n",
    "# Example:\n",
    "# - Name: Suspicious Cloud API Activity\n",
    "#   Objective: Detect unusual patterns in cloud API calls that may indicate credential compromise\n",
    "\"\"\"\n",
    "\n",
    "if custom_detection_plays.strip() and not custom_detection_plays.startswith(\"# Add your\"):\n",
    "    print(\"=== ANALYZING YOUR CUSTOM DETECTION PLAYS ===\")\n",
    "    custom_response = inference(make_prompt(custom_detection_plays), SYSTEM_PROMPT)\n",
    "    display(Markdown(custom_response))\n",
    "else:\n",
    "    print(\"Add your detection plays in the cell above to analyze them!\")"
   ]
  },
  {
   "cell_type": "markdown",
   "metadata": {},
   "source": [
    "## MITRE ATT&CK Coverage Analysis\n",
    "\n",
    "Generate a coverage report for your detection plays:"
   ]
  },
  {
   "cell_type": "code",
   "execution_count": null,
   "metadata": {},
   "outputs": [],
   "source": [
    "def generate_coverage_analysis(detection_plays):\n",
    "    \"\"\"Generate MITRE ATT&CK coverage analysis\"\"\"\n",
    "    \n",
    "    coverage_prompt = f\"\"\"Analyze the following detection plays and provide:\n",
    "    \n",
    "    1. A summary of MITRE ATT&CK techniques covered\n",
    "    2. Identification of any coverage gaps in major attack phases\n",
    "    3. Recommendations for additional detection plays to improve coverage\n",
    "    4. Priority ranking of the current detections based on threat landscape\n",
    "    \n",
    "    Focus on the MITRE ATT&CK framework tactics: Initial Access, Execution, Persistence, \n",
    "    Privilege Escalation, Defense Evasion, Credential Access, Discovery, Lateral Movement, \n",
    "    Collection, Command and Control, and Exfiltration.\n",
    "    \n",
    "    DETECTION PLAYS:\n",
    "    {detection_plays}\"\"\"\n",
    "    \n",
    "    coverage_system = \"You are a threat intelligence analyst specializing in MITRE ATT&CK framework coverage assessment.\"\n",
    "    \n",
    "    return inference(coverage_prompt, coverage_system)\n",
    "\n",
    "# Combine all detection plays for coverage analysis\n",
    "all_plays = detection_plays + \"\\n\" + advanced_detection_plays\n",
    "\n",
    "print(\"=== MITRE ATT&CK COVERAGE ANALYSIS ===\")\n",
    "coverage_analysis = generate_coverage_analysis(all_plays)\n",
    "display(Markdown(coverage_analysis))"
   ]
  },
  {
   "cell_type": "markdown",
   "metadata": {},
   "source": [
    "## Bulk Detection Play Processing\n",
    "\n",
    "Process multiple detection plays efficiently:"
   ]
  },
  {
   "cell_type": "code",
   "execution_count": null,
   "metadata": {},
   "outputs": [],
   "source": [
    "def process_detection_plays_bulk(plays_list):\n",
    "    \"\"\"Process multiple detection plays and return structured results\"\"\"\n",
    "    \n",
    "    results = []\n",
    "    \n",
    "    for i, play in enumerate(plays_list, 1):\n",
    "        print(f\"\\n=== Processing Detection Play {i}/{len(plays_list)} ===\")\n",
    "        \n",
    "        # Format single play for analysis\n",
    "        single_play_prompt = f\"\"\"Analyze this single detection play and provide:\n",
    "        1. Primary MITRE ATT&CK technique mapping\n",
    "        2. Secondary techniques (if applicable)\n",
    "        3. Confidence level (High/Medium/Low)\n",
    "        4. Implementation difficulty (Easy/Medium/Hard)\n",
    "        \n",
    "        DETECTION PLAY:\n",
    "        {play}\"\"\"\n",
    "        \n",
    "        response = inference(single_play_prompt, SYSTEM_PROMPT)\n",
    "        results.append({\n",
    "            \"play\": play,\n",
    "            \"analysis\": response\n",
    "        })\n",
    "        \n",
    "        print(f\"✓ Completed analysis for play {i}\")\n",
    "    \n",
    "    return results\n",
    "\n",
    "# Example bulk processing\n",
    "sample_plays = [\n",
    "    \"- Name: Suspicious File Downloads\\n  Objective: Monitor for downloads of potentially malicious file types from the internet.\",\n",
    "    \"- Name: Unusual User Account Creation\\n  Objective: Detect creation of new user accounts outside of normal business hours or by unauthorized users.\",\n",
    "    \"- Name: Memory Dump Detection\\n  Objective: Identify attempts to dump process memory which may contain sensitive information.\"\n",
    "]\n",
    "\n",
    "print(\"=== BULK PROCESSING DETECTION PLAYS ===\")\n",
    "bulk_results = process_detection_plays_bulk(sample_plays)\n",
    "\n",
    "# Display results\n",
    "for i, result in enumerate(bulk_results, 1):\n",
    "    print(f\"\\n### Result {i}\")\n",
    "    display(Markdown(result[\"analysis\"]))\n",
    "    print(\"-\" * 60)"
   ]
  }
 ],
 "metadata": {
  "colab": {
   "provenance": []
  },
  "kernelspec": {
   "display_name": "Python 3 (ipykernel)",
   "language": "python",
   "name": "python3"
  },
  "language_info": {
   "codemirror_mode": {
    "name": "ipython",
    "version": 3
   },
   "file_extension": ".py",
   "mimetype": "text/x-python",
   "name": "python",
   "nbconvert_exporter": "python",
   "pygments_lexer": "ipython3",
   "version": "3.10.12"
  }
 },
 "nbformat": 4,
 "nbformat_minor": 4
}
