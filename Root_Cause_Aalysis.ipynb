{
 "cells": [
  {
   "cell_type": "markdown",
   "metadata": {
    "id": "AI5ozM2h2Nva"
   },
   "source": [
    "# Use Case Description\n",
    "Root cause analysis in cybersecurity is crucial as it helps identify the underlying causes of security incidents, enabling organizations to implement effective measures to prevent future breaches. However, this process is often tedious and time-consuming, since it requires sifting through vast amounts of data, correlating events, and manually detecting patterns. AI models can accelerates this by automating data analysis, improving accuracy, and reducing the effort needed to pinpoint the root causes efficiently.\n",
    "\n",
    "\n",
    "## Model used for this use case\n",
    "Both Instruct Model and Reasoning Model would be suitable for this task. In this example, we used Reasoning Model.  Oops, it is not available to the public quite yet.  Let's use instruct instead."
   ]
  },
  {
   "cell_type": "markdown",
   "metadata": {},
   "source": [
    "## Configuration\n",
    "Update these variables to match your SageMaker deployment:"
   ]
  },
  {
   "cell_type": "code",
   "execution_count": null,
   "metadata": {},
   "outputs": [],
   "source": [
    "# Update these variables to match your deployment\n",
    "endpoint_name = 'foundation-sec-8b-endpoint'\n",
    "aws_region = 'us-east-1'\n",
    "\n",
    "print(f\"Configuration:\")\n",
    "print(f\"Endpoint: {endpoint_name}\")\n",
    "print(f\"Region: {aws_region}\")"
   ]
  },
  {
   "cell_type": "code",
   "execution_count": null,
   "metadata": {},
   "outputs": [],
   "source": [
    "import boto3\n",
    "import json\n",
    "import re\n",
    "from IPython.display import display, Markdown\n",
    "\n",
    "# Initialize SageMaker runtime client\n",
    "sagemaker_runtime = boto3.client('sagemaker-runtime', region_name=aws_region)\n",
    "\n",
    "print(f\"Connected to SageMaker endpoint: {endpoint_name}\")"
   ]
  },
  {
   "cell_type": "code",
   "execution_count": null,
   "metadata": {},
   "outputs": [],
   "source": [
    "# Generation arguments optimized for classification (short outputs)\n",
    "generation_args = {\n",
    "    \"max_new_tokens\": 10,  # Small since we only need class labels\n",
    "    \"temperature\": None,   # Deterministic for consistent classification\n",
    "    \"repetition_penalty\": 1.2,\n",
    "    \"do_sample\": False,\n",
    "    \"use_cache\": True,\n",
    "}\n",
    "\n",
    "print(\"Generation configuration for classification:\")\n",
    "for key, value in generation_args.items():\n",
    "    print(f\"  {key}: {value}\")"
   ]
  },
  {
   "cell_type": "code",
   "execution_count": null,
   "metadata": {},
   "outputs": [],
   "source": [
    "def invoke_endpoint(prompt, max_new_tokens=1024, temperature=0.3):\n",
    "    \"\"\"Invoke the SageMaker endpoint with the given prompt\"\"\"\n",
    "    payload = {\n",
    "        \"inputs\": prompt,\n",
    "        \"parameters\": {\n",
    "            \"max_new_tokens\": max_new_tokens,\n",
    "            \"temperature\": temperature,\n",
    "            \"do_sample\": temperature > 0,\n",
    "            \"repetition_penalty\": 1.2\n",
    "        }\n",
    "    }\n",
    "    \n",
    "    try:\n",
    "        response = sagemaker_runtime.invoke_endpoint(\n",
    "            EndpointName=endpoint_name,\n",
    "            ContentType='application/json',\n",
    "            Body=json.dumps(payload)\n",
    "        )\n",
    "        \n",
    "        result = json.loads(response['Body'].read().decode())\n",
    "        \n",
    "        # Handle different response formats from TGI\n",
    "        if isinstance(result, list) and len(result) > 0:\n",
    "            return result[0].get('generated_text', str(result))\n",
    "        elif isinstance(result, dict):\n",
    "            return result.get('generated_text', str(result))\n",
    "        else:\n",
    "            return str(result)\n",
    "            \n",
    "    except Exception as e:\n",
    "        print(f\"Error invoking endpoint: {str(e)}\")\n",
    "        return f\"Error: {str(e)}\"\n",
    "\n",
    "# Test the endpoint connection\n",
    "test_response = invoke_endpoint(\"Hello, can you help with root cause analysis specific to Cyber Security?\", max_new_tokens=50)\n",
    "print(\"Test Response:\")\n",
    "print(test_response)"
   ]
  },
  {
   "cell_type": "markdown",
   "metadata": {
    "id": "-2XV1flWD-qM"
   },
   "source": [
    "## Security Logs Assessment"
   ]
  },
  {
   "cell_type": "markdown",
   "metadata": {
    "id": "BY5Wyux1EhVQ"
   },
   "source": [
    "Here’s a short mock security logs and configuration of firewalls"
   ]
  },
  {
   "cell_type": "code",
   "execution_count": 5,
   "metadata": {
    "id": "Obe30-VYESs6"
   },
   "outputs": [
    {
     "data": {
      "text/markdown": [
       "\n",
       "\n",
       "Sample Security Log\n",
       "\n",
       "| Timestamp           | Source IP     | Destination IP | Protocol | Action   | Reason                  | User           |\n",
       "|---------------------|---------------|----------------|----------|----------|-------------------------|----------------|\n",
       "| 2025-07-14 22:15:03 | 192.168.1.45  | 10.10.10.5     | TCP      | Denied   | Suspicious Port Scan    | N/A            |\n",
       "| 2025-07-14 22:15:10 | 192.168.1.45  | 10.10.10.5     | TCP      | Denied   | Suspicious Port Scan    | N/A            |\n",
       "| 2025-07-14 22:15:15 | 192.168.1.45  | 10.10.10.5     | TCP      | Denied   | Suspicious Port Scan    | N/A            |\n",
       "| 2025-07-14 22:16:00 | 192.168.1.45  | 10.10.10.5     | TCP      | Allowed  | Established Connection  | user123        |\n",
       "| 2025-07-14 22:16:05 | 192.168.1.45  | 10.10.10.5     | TCP      | Allowed  | Data Transfer           | user123        |\n",
       "| 2025-07-14 22:17:00 | 192.168.1.45  | 10.10.10.5     | TCP      | Denied   | Suspicious Payload      | user123        |\n",
       "\n",
       "Firewall rules\n",
       "\n",
       "| Rule ID | Source IP | Destination IP | Protocol | Port Range | Action |\n",
       "|---------|-----------|----------------|----------|------------|--------|\n",
       "| 101     | Any       | 10.10.10.5     | TCP      | 1-65535    | Allow  |\n",
       "\n",
       "\n"
      ],
      "text/plain": [
       "<IPython.core.display.Markdown object>"
      ]
     },
     "metadata": {},
     "output_type": "display_data"
    }
   ],
   "source": [
    "context = \"\"\"\n",
    "\n",
    "Sample Security Log\n",
    "\n",
    "| Timestamp           | Source IP     | Destination IP | Protocol | Action   | Reason                  | User           |\n",
    "|---------------------|---------------|----------------|----------|----------|-------------------------|----------------|\n",
    "| 2025-07-14 22:15:03 | 192.168.1.45  | 10.10.10.5     | TCP      | Denied   | Suspicious Port Scan    | N/A            |\n",
    "| 2025-07-14 22:15:10 | 192.168.1.45  | 10.10.10.5     | TCP      | Denied   | Suspicious Port Scan    | N/A            |\n",
    "| 2025-07-14 22:15:15 | 192.168.1.45  | 10.10.10.5     | TCP      | Denied   | Suspicious Port Scan    | N/A            |\n",
    "| 2025-07-14 22:16:00 | 192.168.1.45  | 10.10.10.5     | TCP      | Allowed  | Established Connection  | user123        |\n",
    "| 2025-07-14 22:16:05 | 192.168.1.45  | 10.10.10.5     | TCP      | Allowed  | Data Transfer           | user123        |\n",
    "| 2025-07-14 22:17:00 | 192.168.1.45  | 10.10.10.5     | TCP      | Denied   | Suspicious Payload      | user123        |\n",
    "\n",
    "Firewall rules\n",
    "\n",
    "| Rule ID | Source IP | Destination IP | Protocol | Port Range | Action |\n",
    "|---------|-----------|----------------|----------|------------|--------|\n",
    "| 101     | Any       | 10.10.10.5     | TCP      | 1-65535    | Allow  |\n",
    "\n",
    "\n",
    "\"\"\"\n",
    "\n",
    "display(Markdown(context))"
   ]
  },
  {
   "cell_type": "code",
   "execution_count": 6,
   "metadata": {},
   "outputs": [],
   "source": [
    "def make_prompt(context):\n",
    "   return f\"\"\"You are a security expert in charge of root cause analysis of security incidents.\n",
    "    \n",
    "    Go over the context given, and analyze the root cause of the issue\n",
    "    \n",
    "    ## CONTEXT\n",
    "    {context}\n",
    "    \n",
    "    Respond with:\n",
    "    - What is the issue?\n",
    "    - What is the root cause?\n",
    "    - How to make modifications to prevent the issue?\n",
    "\n",
    "    When displaying a table, ensure it is clearly presented using Markdown.\n",
    "    \"\"\""
   ]
  },
  {
   "cell_type": "code",
   "execution_count": 7,
   "metadata": {
    "id": "7q9yZevyEi8b"
   },
   "outputs": [
    {
     "data": {
      "text/markdown": [
       "## Issue Analysis\n",
       "\n",
       "### What is the issue?\n",
       "\n",
       "The logs indicate that there have been multiple attempts by `192.168.1.45` (source) to connect to `10.10.10.5` (destination). Initially, these connections were denied due to suspicious port scans (`TCP Deny for Suspicious Port Scan`). However, after some time, an established connection was allowed (`Allowed Established Connection`) followed by data transfer. But then another attempt was denied again because of a suspicious payload (`TCP Denied for Suspicious Payload`).\n",
       "\n",
       "**Issue:** The firewall is inconsistently applying its rules, allowing unauthorized access despite previous denials based on port scanning.\n",
       "\n",
       "### Root Cause\n",
       "\n",
       "**Root Cause:** \n",
       "The firewall rule set allows all TCP traffic from any source IP to destination `10.10.10.5` on ports 1-65535. This broad rule overrides more specific detections like port scan detection or malicious payloads. Since the allow rule has higher precedence than deny rules for the same protocol/port range, once the initial connection is allowed (after the port scan), subsequent legitimate traffic isn't blocked even if it's part of a potential attack sequence. \n",
       "\n",
       "Additionally, the system might not be properly configured to track sessions beyond the initial packet inspection. Therefore, once a connection is established, further packets within that session aren’t being inspected as aggressively, leading to false negatives where malicious activity occurs post-initial allowance.\n",
       "\n",
       "### Solution Recommendations\n",
       "\n",
       "To address this issue effectively:\n",
       "\n",
       "#### Modify Firewall Rules\n",
       "\n",
       "1. **Implement Layered Defense**: Create separate rules for different stages of communication. For example, block initial port scans entirely rather than just flagging them. Use rate limiting to detect and stop repeated probes.\n",
       "\n",
       "2. **Update Existing Rules**: Ensure that the \"Allow\" rule for `Any -> 10.10.10.5 TCP 1-65535` is either removed or made more restrictive. Instead, define specific exceptions for known services required, e.g., only allow certain ports (like HTTP/HTTPS, SSH, etc.) instead of the entire range.\n",
       "\n",
       "3. **Anomaly Detection Integration**: Integrate with IDS/IPS systems that can perform deeper inspection and anomaly-based blocking. These tools can look for patterns indicative of attacks even after a connection is established.\n",
       "\n",
       "4. **Session Tracking Improvements**: If possible, configure the firewall to maintain stateful tracking of active sessions. This ensures that each packet is checked against the existing session’s legitimacy, preventing malicious activities during ongoing communications.\n",
       "\n",
       "Here's how updated firewall rules could look like:\n",
       "\n",
       "```markdown\n",
       "| Rule ID | Source IP | Destination IP | Protocol | Port Range | Action         | Notes                           |\n",
       "|---------|-----------|----------------|----------|------------|---------------|-----------------------------|\n",
       "| 102     | Any       | 10.10.10.5     | TCP      | 80,443     | Allow         | HTTPS & SSH                 |\n",
       "| 103     | Any       | 10.10.10.5     | TCP      | 0-1023     | Block          | Disallow non-approved ports   |\n",
       "| 104     | Any       | 10.10.10.5     | TCP      | 1024-65535  | Detect & Alert | Monitor for unusual ports     |\n",
       "```\n",
       "\n",
       "This approach enforces stricter controls at various layers, reducing the risk of inconsistent application of policies and improving overall network security posture."
      ],
      "text/plain": [
       "<IPython.core.display.Markdown object>"
      ]
     },
     "metadata": {},
     "output_type": "display_data"
    }
   ],
   "source": [
    "response = invoke_endpoint(make_prompt(context))\n",
    "display(Markdown(response))"
   ]
  }
 ],
 "metadata": {
  "colab": {
   "provenance": []
  },
  "kernelspec": {
   "display_name": "Python 3 (ipykernel)",
   "language": "python",
   "name": "python3"
  },
  "language_info": {
   "codemirror_mode": {
    "name": "ipython",
    "version": 3
   },
   "file_extension": ".py",
   "mimetype": "text/x-python",
   "name": "python",
   "nbconvert_exporter": "python",
   "pygments_lexer": "ipython3",
   "version": "3.10.12"
  }
 },
 "nbformat": 4,
 "nbformat_minor": 4
}
