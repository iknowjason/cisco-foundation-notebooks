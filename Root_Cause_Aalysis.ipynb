{
 "cells": [
  {
   "cell_type": "markdown",
   "metadata": {
    "id": "AI5ozM2h2Nva"
   },
   "source": [
    "# Use Case Description\n",
    "Root cause analysis in cybersecurity is crucial as it helps identify the underlying causes of security incidents, enabling organizations to implement effective measures to prevent future breaches. However, this process is often tedious and time-consuming, since it requires sifting through vast amounts of data, correlating events, and manually detecting patterns. AI models can accelerates this by automating data analysis, improving accuracy, and reducing the effort needed to pinpoint the root causes efficiently.\n",
    "\n",
    "\n",
    "## Model used for this use case\n",
    "Both Instruct Model and Reasoning Model would be suitable for this task. In this example, we used Reasoning Model."
   ]
  },
  {
   "cell_type": "markdown",
   "metadata": {},
   "source": [
    "## SetUp\n",
    "\n",
    "The setup scripts below are essentially the same as those in the [Quickstart (Reasoning Model)](https://github.com/RobustIntelligence/foundation-ai-cookbook/blob/main/1_quickstarts/Preview_Quickstart_reasoning_model.ipynb)\n",
    "\n",
    "### Notice\n",
    "- The code below assumes that users have access to the models via Hugging Face. If you are using API access instead, please replace the inference code with the API version provided in the Quickstart guide.\n",
    "- This model is currently in preview mode and may receive updates. As a result, outputs can vary even when parameters are configured to ensure reproducibility."
   ]
  },
  {
   "cell_type": "code",
   "execution_count": 1,
   "metadata": {
    "id": "BPloud0h2LI9"
   },
   "outputs": [],
   "source": [
    "import os\n",
    "import transformers\n",
    "import torch\n",
    "from IPython.display import display, Markdown\n",
    "\n",
    "HF_TOKEN = os.getenv(\"HF_TOKEN\")\n",
    "\n",
    "def _get_device():\n",
    "    if torch.cuda.is_available():\n",
    "        return \"cuda\"\n",
    "    elif torch.backends.mps.is_available():\n",
    "        return \"mps\"\n",
    "    else:\n",
    "        return \"cpu\"\n",
    "\n",
    "DEVICE = _get_device()"
   ]
  },
  {
   "cell_type": "code",
   "execution_count": 2,
   "metadata": {
    "id": "u5pjZGi32FsI"
   },
   "outputs": [
    {
     "data": {
      "application/vnd.jupyter.widget-view+json": {
       "model_id": "06b04a22203647f2abe0146320d1709f",
       "version_major": 2,
       "version_minor": 0
      },
      "text/plain": [
       "Loading checkpoint shards:   0%|          | 0/7 [00:00<?, ?it/s]"
      ]
     },
     "metadata": {},
     "output_type": "display_data"
    }
   ],
   "source": [
    "MODEL_ID = \"\" # To be relaced with the final model name\n",
    "\n",
    "from transformers import AutoModelForCausalLM, AutoTokenizer\n",
    "\n",
    "tokenizer = AutoTokenizer.from_pretrained(MODEL_ID, token=HF_TOKEN)\n",
    "model = AutoModelForCausalLM.from_pretrained(\n",
    "    pretrained_model_name_or_path=MODEL_ID,\n",
    "    device_map=\"auto\",\n",
    "    torch_dtype=torch.float32, # this model's tensor_type is float32\n",
    "    token=HF_TOKEN,\n",
    ")"
   ]
  },
  {
   "cell_type": "code",
   "execution_count": 3,
   "metadata": {},
   "outputs": [],
   "source": [
    "generation_args = {\n",
    "    \"max_new_tokens\": 1024,\n",
    "    \"temperature\": None,\n",
    "    \"repetition_penalty\": 1.2,\n",
    "    \"do_sample\": False,\n",
    "    \"use_cache\": True,\n",
    "    \"eos_token_id\": tokenizer.eos_token_id,\n",
    "    \"pad_token_id\": tokenizer.pad_token_id,\n",
    "}"
   ]
  },
  {
   "cell_type": "code",
   "execution_count": 4,
   "metadata": {},
   "outputs": [],
   "source": [
    "import re\n",
    "\n",
    "def inference(prompt):\n",
    "    messages = [\n",
    "        {\"role\": \"user\", \"content\": prompt},\n",
    "    ]\n",
    "    inputs = tokenizer.apply_chat_template(\n",
    "        messages, tokenize=False, add_generation_prompt=True\n",
    "    )\n",
    "\n",
    "    # The old model version didn’t include the <think> token in the chat template.\n",
    "    think_token = \"<think>\\n\"\n",
    "    if not inputs.endswith(think_token):\n",
    "        inputs += think_token\n",
    "    \n",
    "    inputs = tokenizer(inputs, return_tensors=\"pt\").to(DEVICE)\n",
    "    with torch.no_grad():\n",
    "        outputs = model.generate(\n",
    "            **inputs,\n",
    "            **generation_args,\n",
    "        )\n",
    "    response = tokenizer.decode(outputs[0], skip_special_tokens = False)\n",
    "\n",
    "    # extract the thinking part only\n",
    "    match = re.search(r\"<think>(.*?)<\\|end_of_text\\|>\", response, re.DOTALL)\n",
    "    \n",
    "    return match.group(1).strip()"
   ]
  },
  {
   "cell_type": "markdown",
   "metadata": {
    "id": "-2XV1flWD-qM"
   },
   "source": [
    "## Security Logs Assessment"
   ]
  },
  {
   "cell_type": "markdown",
   "metadata": {
    "id": "BY5Wyux1EhVQ"
   },
   "source": [
    "Here’s a short mock security logs and configuration of firewalls"
   ]
  },
  {
   "cell_type": "code",
   "execution_count": 5,
   "metadata": {
    "id": "Obe30-VYESs6"
   },
   "outputs": [
    {
     "data": {
      "text/markdown": [
       "\n",
       "\n",
       "Sample Security Log\n",
       "\n",
       "| Timestamp           | Source IP     | Destination IP | Protocol | Action   | Reason                  | User           |\n",
       "|---------------------|---------------|----------------|----------|----------|-------------------------|----------------|\n",
       "| 2025-07-14 22:15:03 | 192.168.1.45  | 10.10.10.5     | TCP      | Denied   | Suspicious Port Scan    | N/A            |\n",
       "| 2025-07-14 22:15:10 | 192.168.1.45  | 10.10.10.5     | TCP      | Denied   | Suspicious Port Scan    | N/A            |\n",
       "| 2025-07-14 22:15:15 | 192.168.1.45  | 10.10.10.5     | TCP      | Denied   | Suspicious Port Scan    | N/A            |\n",
       "| 2025-07-14 22:16:00 | 192.168.1.45  | 10.10.10.5     | TCP      | Allowed  | Established Connection  | user123        |\n",
       "| 2025-07-14 22:16:05 | 192.168.1.45  | 10.10.10.5     | TCP      | Allowed  | Data Transfer           | user123        |\n",
       "| 2025-07-14 22:17:00 | 192.168.1.45  | 10.10.10.5     | TCP      | Denied   | Suspicious Payload      | user123        |\n",
       "\n",
       "Firewall rules\n",
       "\n",
       "| Rule ID | Source IP | Destination IP | Protocol | Port Range | Action |\n",
       "|---------|-----------|----------------|----------|------------|--------|\n",
       "| 101     | Any       | 10.10.10.5     | TCP      | 1-65535    | Allow  |\n",
       "\n",
       "\n"
      ],
      "text/plain": [
       "<IPython.core.display.Markdown object>"
      ]
     },
     "metadata": {},
     "output_type": "display_data"
    }
   ],
   "source": [
    "context = \"\"\"\n",
    "\n",
    "Sample Security Log\n",
    "\n",
    "| Timestamp           | Source IP     | Destination IP | Protocol | Action   | Reason                  | User           |\n",
    "|---------------------|---------------|----------------|----------|----------|-------------------------|----------------|\n",
    "| 2025-07-14 22:15:03 | 192.168.1.45  | 10.10.10.5     | TCP      | Denied   | Suspicious Port Scan    | N/A            |\n",
    "| 2025-07-14 22:15:10 | 192.168.1.45  | 10.10.10.5     | TCP      | Denied   | Suspicious Port Scan    | N/A            |\n",
    "| 2025-07-14 22:15:15 | 192.168.1.45  | 10.10.10.5     | TCP      | Denied   | Suspicious Port Scan    | N/A            |\n",
    "| 2025-07-14 22:16:00 | 192.168.1.45  | 10.10.10.5     | TCP      | Allowed  | Established Connection  | user123        |\n",
    "| 2025-07-14 22:16:05 | 192.168.1.45  | 10.10.10.5     | TCP      | Allowed  | Data Transfer           | user123        |\n",
    "| 2025-07-14 22:17:00 | 192.168.1.45  | 10.10.10.5     | TCP      | Denied   | Suspicious Payload      | user123        |\n",
    "\n",
    "Firewall rules\n",
    "\n",
    "| Rule ID | Source IP | Destination IP | Protocol | Port Range | Action |\n",
    "|---------|-----------|----------------|----------|------------|--------|\n",
    "| 101     | Any       | 10.10.10.5     | TCP      | 1-65535    | Allow  |\n",
    "\n",
    "\n",
    "\"\"\"\n",
    "\n",
    "display(Markdown(context))"
   ]
  },
  {
   "cell_type": "code",
   "execution_count": 6,
   "metadata": {},
   "outputs": [],
   "source": [
    "def make_prompt(context):\n",
    "   return f\"\"\"You are a security expert in charge of root cause analysis of security incidents.\n",
    "    \n",
    "    Go over the context given, and analyze the root cause of the issue\n",
    "    \n",
    "    ## CONTEXT\n",
    "    {context}\n",
    "    \n",
    "    Respond with:\n",
    "    - What is the issue?\n",
    "    - What is the root cause?\n",
    "    - How to make modifications to prevent the issue?\n",
    "\n",
    "    When displaying a table, ensure it is clearly presented using Markdown.\n",
    "    \"\"\""
   ]
  },
  {
   "cell_type": "code",
   "execution_count": 7,
   "metadata": {
    "id": "7q9yZevyEi8b"
   },
   "outputs": [
    {
     "data": {
      "text/markdown": [
       "## Issue Analysis\n",
       "\n",
       "### What is the issue?\n",
       "\n",
       "The logs indicate that there have been multiple attempts by `192.168.1.45` (source) to connect to `10.10.10.5` (destination). Initially, these connections were denied due to suspicious port scans (`TCP Deny for Suspicious Port Scan`). However, after some time, an established connection was allowed (`Allowed Established Connection`) followed by data transfer. But then another attempt was denied again because of a suspicious payload (`TCP Denied for Suspicious Payload`).\n",
       "\n",
       "**Issue:** The firewall is inconsistently applying its rules, allowing unauthorized access despite previous denials based on port scanning.\n",
       "\n",
       "### Root Cause\n",
       "\n",
       "**Root Cause:** \n",
       "The firewall rule set allows all TCP traffic from any source IP to destination `10.10.10.5` on ports 1-65535. This broad rule overrides more specific detections like port scan detection or malicious payloads. Since the allow rule has higher precedence than deny rules for the same protocol/port range, once the initial connection is allowed (after the port scan), subsequent legitimate traffic isn't blocked even if it's part of a potential attack sequence. \n",
       "\n",
       "Additionally, the system might not be properly configured to track sessions beyond the initial packet inspection. Therefore, once a connection is established, further packets within that session aren’t being inspected as aggressively, leading to false negatives where malicious activity occurs post-initial allowance.\n",
       "\n",
       "### Solution Recommendations\n",
       "\n",
       "To address this issue effectively:\n",
       "\n",
       "#### Modify Firewall Rules\n",
       "\n",
       "1. **Implement Layered Defense**: Create separate rules for different stages of communication. For example, block initial port scans entirely rather than just flagging them. Use rate limiting to detect and stop repeated probes.\n",
       "\n",
       "2. **Update Existing Rules**: Ensure that the \"Allow\" rule for `Any -> 10.10.10.5 TCP 1-65535` is either removed or made more restrictive. Instead, define specific exceptions for known services required, e.g., only allow certain ports (like HTTP/HTTPS, SSH, etc.) instead of the entire range.\n",
       "\n",
       "3. **Anomaly Detection Integration**: Integrate with IDS/IPS systems that can perform deeper inspection and anomaly-based blocking. These tools can look for patterns indicative of attacks even after a connection is established.\n",
       "\n",
       "4. **Session Tracking Improvements**: If possible, configure the firewall to maintain stateful tracking of active sessions. This ensures that each packet is checked against the existing session’s legitimacy, preventing malicious activities during ongoing communications.\n",
       "\n",
       "Here's how updated firewall rules could look like:\n",
       "\n",
       "```markdown\n",
       "| Rule ID | Source IP | Destination IP | Protocol | Port Range | Action         | Notes                           |\n",
       "|---------|-----------|----------------|----------|------------|---------------|-----------------------------|\n",
       "| 102     | Any       | 10.10.10.5     | TCP      | 80,443     | Allow         | HTTPS & SSH                 |\n",
       "| 103     | Any       | 10.10.10.5     | TCP      | 0-1023     | Block          | Disallow non-approved ports   |\n",
       "| 104     | Any       | 10.10.10.5     | TCP      | 1024-65535  | Detect & Alert | Monitor for unusual ports     |\n",
       "```\n",
       "\n",
       "This approach enforces stricter controls at various layers, reducing the risk of inconsistent application of policies and improving overall network security posture."
      ],
      "text/plain": [
       "<IPython.core.display.Markdown object>"
      ]
     },
     "metadata": {},
     "output_type": "display_data"
    }
   ],
   "source": [
    "response = inference(make_prompt(context))\n",
    "display(Markdown(response))"
   ]
  }
 ],
 "metadata": {
  "colab": {
   "provenance": []
  },
  "kernelspec": {
   "display_name": "Python 3 (ipykernel)",
   "language": "python",
   "name": "python3"
  },
  "language_info": {
   "codemirror_mode": {
    "name": "ipython",
    "version": 3
   },
   "file_extension": ".py",
   "mimetype": "text/x-python",
   "name": "python",
   "nbconvert_exporter": "python",
   "pygments_lexer": "ipython3",
   "version": "3.10.12"
  }
 },
 "nbformat": 4,
 "nbformat_minor": 4
}
