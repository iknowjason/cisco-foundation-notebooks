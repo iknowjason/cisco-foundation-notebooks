{
 "cells": [
  {
   "cell_type": "markdown",
   "metadata": {
    "id": "AI5ozM2h2Nva"
   },
   "source": [
    "# Use Case Description\n",
    "\n",
    "Automate key phases of incident investigation using a coordinated set of LLM-driven agents. These agents handle tasks such as triaging, summarizing, planning next steps, and generating recommendations, ultimately producing detailed investigation reports for SOC teams with minimal manual effort.\n",
    "\n",
    "## Model used for this use case\n",
    "This use case involves series of complex tasks so Reasoning Model would be more suitable.  However, the reasoning model has not been released yet so we will have to use the instruct model."
   ]
  },
  {
   "cell_type": "markdown",
   "metadata": {},
   "source": [
    "## Configuration\n",
    "Update these variables to match your SageMaker deployment:"
   ]
  },
  {
   "cell_type": "code",
   "execution_count": null,
   "metadata": {},
   "outputs": [],
   "source": [
    "# Update these variables to match your deployment\n",
    "endpoint_name = 'foundation-sec-8b-endpoint'\n",
    "aws_region = 'us-east-1'\n",
    "\n",
    "print(f\"Configuration:\")\n",
    "print(f\"Endpoint: {endpoint_name}\")\n",
    "print(f\"Region: {aws_region}\")"
   ]
  },
  {
   "cell_type": "code",
   "execution_count": null,
   "metadata": {},
   "outputs": [],
   "source": [
    "import boto3\n",
    "import json\n",
    "import re\n",
    "import pandas as pd\n",
    "from datetime import datetime\n",
    "from IPython.display import display, Markdown\n",
    "\n",
    "# Initialize SageMaker runtime client\n",
    "sagemaker_runtime = boto3.client('sagemaker-runtime', region_name=aws_region)\n",
    "\n",
    "print(f\"Connected to SageMaker endpoint: {endpoint_name}\")"
   ]
  },
  {
   "cell_type": "code",
   "execution_count": null,
   "metadata": {},
   "outputs": [],
   "source": [
    "# Generation arguments optimized for classification (short outputs)\n",
    "generation_args = {\n",
    "    \"max_new_tokens\": 10,  # Small since we only need class labels\n",
    "    \"temperature\": None,   # Deterministic for consistent classification\n",
    "    \"repetition_penalty\": 1.2,\n",
    "    \"do_sample\": False,\n",
    "    \"use_cache\": True,\n",
    "}\n",
    "\n",
    "print(\"Generation configuration for classification:\")\n",
    "for key, value in generation_args.items():\n",
    "    print(f\"  {key}: {value}\")"
   ]
  },
  {
   "cell_type": "code",
   "execution_count": null,
   "metadata": {},
   "outputs": [],
   "source": [
    "def invoke_endpoint(prompt, max_new_tokens=1024, temperature=0.3):\n",
    "    \"\"\"Invoke the SageMaker endpoint with the given prompt\"\"\"\n",
    "    payload = {\n",
    "        \"inputs\": prompt,\n",
    "        \"parameters\": {\n",
    "            \"max_new_tokens\": max_new_tokens,\n",
    "            \"temperature\": temperature,\n",
    "            \"do_sample\": temperature > 0,\n",
    "            \"repetition_penalty\": 1.2\n",
    "        }\n",
    "    }\n",
    "    \n",
    "    try:\n",
    "        response = sagemaker_runtime.invoke_endpoint(\n",
    "            EndpointName=endpoint_name,\n",
    "            ContentType='application/json',\n",
    "            Body=json.dumps(payload)\n",
    "        )\n",
    "        \n",
    "        result = json.loads(response['Body'].read().decode())\n",
    "        \n",
    "        # Handle different response formats from TGI\n",
    "        if isinstance(result, list) and len(result) > 0:\n",
    "            return result[0].get('generated_text', str(result))\n",
    "        elif isinstance(result, dict):\n",
    "            return result.get('generated_text', str(result))\n",
    "        else:\n",
    "            return str(result)\n",
    "            \n",
    "    except Exception as e:\n",
    "        print(f\"Error invoking endpoint: {str(e)}\")\n",
    "        return f\"Error: {str(e)}\"\n",
    "\n",
    "# Test the endpoint connection\n",
    "test_response = invoke_endpoint(\"Hello, can you help with cybersecurity?\", max_new_tokens=50)\n",
    "print(\"Test Response:\")\n",
    "print(test_response)"
   ]
  },
  {
   "cell_type": "markdown",
   "metadata": {
    "id": "-2XV1flWD-qM"
   },
   "source": [
    "## Summarize Incident"
   ]
  },
  {
   "cell_type": "code",
   "execution_count": 5,
   "metadata": {
    "id": "k39kmkaF4FdF"
   },
   "outputs": [],
   "source": [
    "def make_prompt_summarize_incident(metadata: dict, alert_logs: str) -> str:\n",
    "\n",
    "    return (\n",
    "        \"You are a senior SOC analyst assisting with incident triage. \"\n",
    "        \"Your task is to read the incident metadata and alert logs, and provide a clear summary of what occurred.\\n\\n\"\n",
    "        \"Instructions:\\n\"\n",
    "        \"- Highlight the sequence of events (inferred from timestamps).\\n\"\n",
    "        \"- Think deeply about cause and effect and how artifacts relate to one another.\\n\"\n",
    "        \"- Mention key attack techniques used (if inferable from logs).\\n\"\n",
    "        \"- Describe how the attack began and progressed.\\n\"\n",
    "        \"- Use clear and concise language appropriate for L1/L2 analysts.\\n\\n\"\n",
    "        f\"Incident Metadata:\\n{metadata}\\n\\n\"\n",
    "        f\"Alert Logs:\\n{alert_logs}\\n\\n\"\n",
    "        \"Summarize what happened in this incident in a few sentences\"\n",
    "    )\n"
   ]
  },
  {
   "cell_type": "code",
   "execution_count": 6,
   "metadata": {
    "id": "J7oFBSi12dmZ"
   },
   "outputs": [],
   "source": [
    "incident_meta = {\n",
    "    \"incident_id\": \"INC-1024\",\n",
    "    \"type\": \"Unauthorized Access\",\n",
    "    \"severity\": \"High\",\n",
    "    \"timestamp\": \"2025-04-09T10:30:00Z\"\n",
    "}\n",
    "raw_logs = \"\"\"2025-04-09 10:00:23 - Alert: 5 failed login attempts for user 'alice' on host 'WS123'\n",
    "2025-04-09 10:05:10 - Alert: Suspicious PowerShell execution on 'WS123' by 'alice' (malicious script blocked)\n",
    "2025-04-09 10:10:45 - Alert: Process dumping LSASS memory on 'WS123' (possible credential theft)\n",
    "2025-04-09 10:15:00 - Alert: Successful login of 'alice' to server 'DC1' from host 'WS123'\"\"\""
   ]
  },
  {
   "cell_type": "code",
   "execution_count": 7,
   "metadata": {
    "id": "suIebkN5AU02"
   },
   "outputs": [
    {
     "data": {
      "text/markdown": [
       "**Incident Summary:** On April 9th at approximately 10:00 AM UTC, an unauthorized access incident occurred starting with five failed login attempts by user 'alice' on workstation WS123. This was followed by suspicious PowerShell activity around 10:05 AM, indicating potential malicious scripting which was blocked. At 10:10 AM, there was process dumping of LSASS memory, suggesting attempted credential harvesting. Finally, at 10:15 AM, 'alice' successfully logged into domain controller DC1 from WS123, likely using stolen credentials. The attack progression shows initial brute force attempts leading to privilege escalation via LSASS dump, culminating in lateral movement to a critical system. Key techniques include password spraying (failed logins), obfuscated files or information (PowerShell block), and OS credential dumping (LSASS). Severity is high due to successful unauthorized access and potential data compromise."
      ],
      "text/plain": [
       "<IPython.core.display.Markdown object>"
      ]
     },
     "metadata": {},
     "output_type": "display_data"
    }
   ],
   "source": [
    "generated_summary = inference(make_prompt_summarize_incident(incident_meta, raw_logs))\n",
    "display(Markdown(generated_summary))"
   ]
  },
  {
   "cell_type": "markdown",
   "metadata": {
    "id": "HwDT1ord4Vkl"
   },
   "source": [
    "##  Identify Impacted Assets, Users, and MITRE Tactics\n",
    "\n",
    "Identify impacted assets, users, and MITRE ATT&CK tactics/techniques from incident data. "
   ]
  },
  {
   "cell_type": "code",
   "execution_count": 8,
   "metadata": {},
   "outputs": [],
   "source": [
    "prompt = (\n",
    "    \"You are a cybersecurity expert specializing in threat analysis and incident response. Analyze the following incident logs and metadata, then:\\n\"\n",
    "    \"- List impacted host systems and IPs\\n\"\n",
    "    \"- List impacted user accounts\\n\"\n",
    "    \"- Identify MITRE ATT&CK tactics and techniques observed (with names or IDs)\\n\\n\"\n",
    "    f\"Metadata: {incident_meta}\\n\"\n",
    "    f\"Logs:\\n{raw_logs}\\n\\n\"\n",
    "    \"Provide the result as a JSON object with no comments where\"\n",
    "    \"- keys are 'impacted_hosts', 'impacted_users', 'tactics', all of which are lists\"\n",
    "    \"- each tactic in 'tactics' should have 'name' and 'techniques' keys\"\n",
    "    \"- each technique in 'techniques' should have 'id' and 'name' keys\"\n",
    "    \"Only output JSON\"\n",
    ")\n",
    "\n",
    "generated_entities = inference(prompt)"
   ]
  },
  {
   "cell_type": "markdown",
   "metadata": {},
   "source": [
    "Cleanse the response data and read as json file"
   ]
  },
  {
   "cell_type": "code",
   "execution_count": 9,
   "metadata": {},
   "outputs": [
    {
     "name": "stdout",
     "output_type": "stream",
     "text": [
      "{\n",
      "  \"impacted_hosts\": [\n",
      "    \"WS123\",\n",
      "    \"DC1\"\n",
      "  ],\n",
      "  \"impacted_users\": [\n",
      "    \"alice\"\n",
      "  ],\n",
      "  \"tactics\": [\n",
      "    {\n",
      "      \"name\": \"Credential Access\",\n",
      "      \"techniques\": [\n",
      "        {\n",
      "          \"id\": \"T1003\",\n",
      "          \"name\": \"OS Credential Dumping: LSASS Memory\"\n",
      "        }\n",
      "      ]\n",
      "    },\n",
      "    {\n",
      "      \"name\": \"Execution\",\n",
      "      \"techniques\": [\n",
      "        {\n",
      "          \"id\": \"T1059.001\",\n",
      "          \"name\": \"Command and Scripting Interpreter: Windows Command Shell (PowerShell)\"\n",
      "        }\n",
      "      ]\n",
      "    },\n",
      "    {\n",
      "      \"name\": \"Initial Access\",\n",
      "      \"techniques\": [\n",
      "        {\n",
      "          \"id\": \"T1110\",\n",
      "          \"name\": \"Brute Force: Password Guessing\"\n",
      "        }\n",
      "      ]\n",
      "    }\n",
      "  ]\n",
      "}\n"
     ]
    }
   ],
   "source": [
    "import json\n",
    "\n",
    "match = re.search(r'\\{[\\s\\S]*\\}', generated_entities)\n",
    "if match:\n",
    "    try:\n",
    "        generated_entities = json.loads(match.group(0))\n",
    "    except json.JSONDecodeError as e:\n",
    "        print(\"Error decoding JSON:\", e)\n",
    "else:\n",
    "    print(\"No JSON object found in response.\")\n",
    "print(json.dumps(generated_entities, indent=2))"
   ]
  },
  {
   "cell_type": "markdown",
   "metadata": {
    "id": "zRjIPlV9_FzR"
   },
   "source": [
    " ## Recommend Remediation Steps and Next Investigative Actions\n",
    "\n",
    " Recommend remediation steps and next investigative actions based on the incident summary and entities."
   ]
  },
  {
   "cell_type": "code",
   "execution_count": 10,
   "metadata": {},
   "outputs": [],
   "source": [
    "def make_prompt_for_recommend_actions(summary, entities) -> dict:\n",
    "    impacted_hosts = \", \".join(entities.get(\"impacted_hosts\", []))\n",
    "    impacted_users = \", \".join(entities.get(\"impacted_users\", []))\n",
    "    tactics_list = [\n",
    "        f\"{tactic['name']}: {technique['name']} ({technique['id']})\"\n",
    "        for tactic in entities.get(\"tactics\", [])\n",
    "        for technique in tactic.get(\"techniques\", [])\n",
    "    ]\n",
    "\n",
    "    context = (\n",
    "        f\"Incident Summary: {summary}\\n\"\n",
    "        f\"Impacted Hosts: {impacted_hosts}\\n\"\n",
    "        f\"Impacted Users: {impacted_users}\\n\"\n",
    "        f\"Observed Tactics: {tactics_list}\\n\\n\"\n",
    "    )\n",
    "\n",
    "    return (\n",
    "        \"You are a SOC incident response assistant. Based on the incident details, respond strictly in the following JSON format:\\n\"\n",
    "        '{\\n  \"remediation_steps\": [\"...\"],\\n  \"next_steps\": [\"...\"]\\n}\\n\\n'\n",
    "        + context\n",
    "    )"
   ]
  },
  {
   "cell_type": "code",
   "execution_count": 11,
   "metadata": {},
   "outputs": [
    {
     "name": "stdout",
     "output_type": "stream",
     "text": [
      "{\n",
      "  \"remediation_steps\": [\n",
      "    \"Isolate WS123 and DC1 immediately from the network to prevent further lateral movement.\",\n",
      "    \"Terminate any active sessions originating from WS123, especially those connected to DC1.\",\n",
      "    \"Conduct a thorough forensic analysis on WS123 and DC1 to identify all compromised accounts and restore them from secure backups.\",\n",
      "    \"Reset passwords for all users, particularly 'alice', enforcing strong, unique passwords and multi-factor authentication where possible.\",\n",
      "    \"Revoke any existing session tokens and refresh Kerberos tickets across the domain.\",\n",
      "    \"Patch WS123 and DC1 against known vulnerabilities related to LSASS exploitation.\",\n",
      "    \"Monitor for additional signs of intrusion such as unusual file transfers, data exfiltration, or other malicious activities.\"\n",
      "  ],\n",
      "  \"next_steps\": [\n",
      "    \"Review and update firewall rules to restrict unnecessary access to domain controllers.\",\n",
      "    \"Enhance logging and monitoring capabilities to detect similar brute-force attacks and credential dumping attempts.\",\n",
      "    \"Schedule a security awareness training session for employees focusing on phishing and password hygiene.\",\n",
      "    \"Coordinate with the IT team to implement a more robust EDR solution that can better detect and mitigate such threats.\",\n",
      "    \"Prepare an incident report detailing the steps taken and lessons learned for executive review and future reference.\"\n",
      "  ]\n",
      "}\n"
     ]
    }
   ],
   "source": [
    "_generated_recommend_actions = inference(make_prompt_for_recommend_actions(generated_summary, generated_entities))\n",
    "match = re.search(r\"```(?:json)?\\s*(\\{.*?\\})\\s*```\", _generated_recommend_actions, re.DOTALL)\n",
    "if match:\n",
    "    generated_recommend_actions = json.loads(match.group(1))\n",
    "    print(json.dumps(generated_recommend_actions, indent=2))\n",
    "else:\n",
    "    print(\"JSON was not correctly generated\")"
   ]
  },
  {
   "cell_type": "markdown",
   "metadata": {
    "id": "9VIchk88Ckbv"
   },
   "source": [
    "## Produce a Structured Incident Investigation Report\n",
    "Compile a structured incident report using the summary, entities, and recommended actions.\n",
    "Returns a formatted report as a text (could be markdown or plain text)."
   ]
  },
  {
   "cell_type": "code",
   "execution_count": 12,
   "metadata": {
    "id": "zhktz0rqCows"
   },
   "outputs": [],
   "source": [
    "def make_report_prompt(metadata: dict, summary: str, entities: dict, actions: dict) -> str:\n",
    "    \"\"\"\n",
    "    Compile a structured incident report using the summary, entities, and recommended actions.\n",
    "    Returns a formatted report as a text (could be markdown or plain text).\n",
    "    \"\"\"\n",
    "    hosts = \", \".join(entities.get(\"impacted_hosts\", []))\n",
    "    users = \", \".join(entities.get(\"impacted_users\", []))\n",
    "    tactics = [\n",
    "        f\"{tactic['name']}: {technique['name']} ({technique['id']})\"\n",
    "        for tactic in entities.get(\"tactics\", [])\n",
    "        for technique in tactic.get(\"techniques\", [])\n",
    "    ]\n",
    "    remediation_list = \"- \" + \"\\n- \".join(\n",
    "        step[\"text\"] if isinstance(step, dict) and \"text\" in step else str(step)\n",
    "        for step in actions.get(\"remediation_steps\", [])\n",
    "    )\n",
    "    next_steps_list = \"- \" + \"\\n- \".join(\n",
    "        step[\"text\"] if isinstance(step, dict) and \"text\" in step else str(step)\n",
    "        for step in actions.get(\"next_steps\", [])\n",
    "    )\n",
    "\n",
    "    return (\n",
    "        \"You are a SOC analyst assistant tasked with writing the final incident report. \"\n",
    "        \"Use the information below to fill out each section of the report.\\n\\n\"\n",
    "        f\"Incident Metadata: {metadata}\\n\"\n",
    "        f\"Incident Summary: {summary}\\n\"\n",
    "        f\"Impacted Hosts: {hosts}\\n\"\n",
    "        f\"Impacted Users: {users}\\n\"\n",
    "        f\"Observed Tactics/Techniques: {tactics}\\n\"\n",
    "        f\"Remediation Steps Taken:\\n{remediation_list}\\n\"\n",
    "        f\"Next Investigation Steps:\\n{next_steps_list}\\n\\n\"\n",
    "        \"Now format the incident report with the following sections:\\n\"\n",
    "        \"## Incident Summary\\n\"\n",
    "        \"*(A brief overview of the incident.)*\\n\"\n",
    "        \"## Impacted Assets and Users\\n\"\n",
    "        \"*(Which systems and accounts were affected.)*\\n\"\n",
    "        \"## Adversary Tactics and Techniques\\n\"\n",
    "        \"*(ATT&CK tactics/techniques observed in this incident.)*\\n\"\n",
    "        \"### Incident Details (Timeline)\\n\"\n",
    "        \"*(Chronological log of key events.)*\\n\\n\"\n",
    "        \"## Remediation Actions Implemented\\n\"\n",
    "        \"*(How we contained/mitigated the incident.)*\\n\"\n",
    "        \"## Next Steps and Recommendations\\n\"\n",
    "        \"*(Further investigation steps or preventive measures.)*\\n\"\n",
    "        \"Draft the report now, incorporating all provided details in the appropriate sections.\"\n",
    "        \"Return in Markdown format\"\n",
    "    )\n"
   ]
  },
  {
   "cell_type": "code",
   "execution_count": 13,
   "metadata": {
    "id": "s4q9nP8eDQ_Z"
   },
   "outputs": [
    {
     "data": {
      "text/markdown": [
       "# Incident Report: Unauthorized Access - INC-1024\n",
       "\n",
       "## Incident Summary\n",
       "On April 9th, 2025, at approximately 10:00 AM UTC, an unauthorized access incident of high severity was detected. The sequence began with five consecutive failed login attempts by user 'alice' targeting workstation WS123. Shortly after, between 10:05 AM and 10:10 AM, suspicious PowerShell activity was identified, indicative of obfuscated scripts potentially used for malicious purposes. Following this, there was a process dump of Local Security Authority Subsystem Service (LSASS) memory, signifying an attempt to harvest credentials. By 10:15 AM, 'alice' managed to authenticate onto the domain controller DC1 from WS123, presumably utilizing obtained credentials. The attacker's methods included password spraying, leveraging obfuscated files through PowerShell, and executing OS credential dumping via LSASS. These actions led to successful unauthorized entry and pose significant risk for data breaches.\n",
       "\n",
       "## Impacted Assets and Users\n",
       "**Affected Systems:**\n",
       "- Workstation: WS123\n",
       "- Domain Controller: DC1\n",
       "\n",
       "**Impacted User:**\n",
       "- Alice\n",
       "\n",
       "## Adversary Tactics and Techniques\n",
       "The observed adversary tactics and techniques align with specific MITRE ATT&CK frameworks:\n",
       "\n",
       "- **Initial Access**: Brute Force: Password Guessing (T1110)\n",
       "- **Execution**: Command and Scripting Interpreter: Windows Command Shell (PowerShell) (T1059.001)\n",
       "- **Credential Access**: OS Credential Dumping: LSASS Memory (T1003)\n",
       "\n",
       "## Incident Details (Timeline)\n",
       "- **10:00 AM**: Five failed login attempts by 'alice' on WS123.\n",
       "- **10:05 AM - 10:10 AM**: Suspicious PowerShell activity detected; blocked due to obfuscation.\n",
       "- **10:10 AM**: Process dumping of LSASS memory, indicating credential harvesting efforts.\n",
       "- **10:15 AM**: Successful login of 'alice' to DC1 from WS123, implying use of stolen credentials.\n",
       "\n",
       "## Remediation Actions Implemented\n",
       "Immediate containment and mitigation steps were executed to halt the breach’s spread and minimize damage:\n",
       "\n",
       "- Network isolation of WS123 and DC1 to prevent further lateral movement.\n",
       "- Terminated active sessions originating from WS123, specifically those linked to DC1.\n",
       "- Initiated comprehensive forensic analyses on both impacted hosts to recover and reset compromised accounts from secure backups.\n",
       "- Forcibly changed passwords for all users, prioritizing 'alice,' enforced stronger policies including MFA wherever applicable.\n",
       "- Revoked current session tokens and refreshed Kerberos tickets across the entire domain.\n",
       "- Applied patches addressing known LSASS vulnerability exploits on WS123 and DC1.\n",
       "- Enhanced ongoing surveillance for secondary indicators like data leaks or anomalous file movements.\n",
       "\n",
       "## Next Steps and Recommendations\n",
       "To fortify defenses and prevent recurrence:\n",
       "\n",
       "- Update firewall configurations to limit non-essential accesses to domain controllers.\n",
       "- Augment logging and detection tools to spot future brute-force assaults and credential extraction attempts promptly.\n",
       "- Organize employee education sessions focused on recognizing phishing attempts and improving password management practices.\n",
       "- Collaborate with IT to deploy advanced Endpoint Detection and Response (EDR) solutions offering superior threat identification and response mechanisms.\n",
       "- Compile a detailed post-mortem report for executive briefing and archival, encapsulating responses and insights gleaned from this event.\n",
       "\n",
       "---\n",
       "\n",
       "This structured markdown document provides a clear, concise summary of the incident, its remediation, and recommended next steps."
      ],
      "text/plain": [
       "<IPython.core.display.Markdown object>"
      ]
     },
     "metadata": {},
     "output_type": "display_data"
    }
   ],
   "source": [
    "report = inference(make_report_prompt(incident_meta, generated_summary, generated_entities, generated_recommend_actions))\n",
    "display(Markdown(report))"
   ]
  }
 ],
 "metadata": {
  "colab": {
   "provenance": []
  },
  "kernelspec": {
   "display_name": "Python 3 (ipykernel)",
   "language": "python",
   "name": "python3"
  },
  "language_info": {
   "codemirror_mode": {
    "name": "ipython",
    "version": 3
   },
   "file_extension": ".py",
   "mimetype": "text/x-python",
   "name": "python",
   "nbconvert_exporter": "python",
   "pygments_lexer": "ipython3",
   "version": "3.10.12"
  }
 },
 "nbformat": 4,
 "nbformat_minor": 4
}
