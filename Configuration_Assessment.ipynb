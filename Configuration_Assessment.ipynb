{
 "cells": [
  {
   "cell_type": "markdown",
   "metadata": {
    "id": "AI5ozM2h2Nva"
   },
   "source": [
    "# Use Case Description\n",
    "\n",
    "In nearly every security incident, misconfiguration is either the root cause or a critical enabler. Today, most config assessments rely on static rule-matching engines that check config files or cloud settings against predefined rules. But these tools lack contextual understanding of how different components interact — they can't tell if a setting is safe for your environment. This use case focuses on an AI model that ingests configuration data across cloud, infra, app, and identity layers — and reasons over them to answer:\n",
    "\n",
    "## Model used for this use case\n",
    "Both Instruct Model and Reasoning Model would be suitable for this task. In this example, we used Instruct Model."
   ]
  },
  {
   "cell_type": "markdown",
   "metadata": {},
   "source": [
    "## Configuration\n",
    "Update these variables to match your SageMaker deployment:"
   ]
  },
  {
   "cell_type": "code",
   "execution_count": null,
   "metadata": {},
   "outputs": [],
   "source": [
    "# Update these variables to match your deployment\n",
    "endpoint_name = 'foundation-sec-8b-endpoint'\n",
    "aws_region = 'us-east-1'\n",
    "\n",
    "print(f\"Configuration:\")\n",
    "print(f\"Endpoint: {endpoint_name}\")\n",
    "print(f\"Region: {aws_region}\")"
   ]
  },
  {
   "cell_type": "code",
   "execution_count": null,
   "metadata": {},
   "outputs": [],
   "source": [
    "import boto3\n",
    "import json\n",
    "import re\n",
    "from IPython.display import display, Markdown\n",
    "\n",
    "# Initialize SageMaker runtime client\n",
    "sagemaker_runtime = boto3.client('sagemaker-runtime', region_name=aws_region)\n",
    "\n",
    "print(f\"Connected to SageMaker endpoint: {endpoint_name}\")"
   ]
  },
  {
   "cell_type": "code",
   "execution_count": null,
   "metadata": {},
   "outputs": [],
   "source": [
    "# Generation arguments optimized for classification (short outputs)\n",
    "generation_args = {\n",
    "    \"max_new_tokens\": 10,  # Small since we only need class labels\n",
    "    \"temperature\": None,   # Deterministic for consistent classification\n",
    "    \"repetition_penalty\": 1.2,\n",
    "    \"do_sample\": False,\n",
    "    \"use_cache\": True,\n",
    "}\n",
    "\n",
    "print(\"Generation configuration for classification:\")\n",
    "for key, value in generation_args.items():\n",
    "    print(f\"  {key}: {value}\")"
   ]
  },
  {
   "cell_type": "code",
   "execution_count": null,
   "metadata": {},
   "outputs": [],
   "source": [
    "def invoke_endpoint(prompt, max_new_tokens=1024, temperature=0.3):\n",
    "    \"\"\"Invoke the SageMaker endpoint with the given prompt\"\"\"\n",
    "    payload = {\n",
    "        \"inputs\": prompt,\n",
    "        \"parameters\": {\n",
    "            \"max_new_tokens\": max_new_tokens,\n",
    "            \"temperature\": temperature,\n",
    "            \"do_sample\": temperature > 0,\n",
    "            \"repetition_penalty\": 1.2\n",
    "        }\n",
    "    }\n",
    "    \n",
    "    try:\n",
    "        response = sagemaker_runtime.invoke_endpoint(\n",
    "            EndpointName=endpoint_name,\n",
    "            ContentType='application/json',\n",
    "            Body=json.dumps(payload)\n",
    "        )\n",
    "        \n",
    "        result = json.loads(response['Body'].read().decode())\n",
    "        \n",
    "        # Handle different response formats from TGI\n",
    "        if isinstance(result, list) and len(result) > 0:\n",
    "            return result[0].get('generated_text', str(result))\n",
    "        elif isinstance(result, dict):\n",
    "            return result.get('generated_text', str(result))\n",
    "        else:\n",
    "            return str(result)\n",
    "            \n",
    "    except Exception as e:\n",
    "        print(f\"Error invoking endpoint: {str(e)}\")\n",
    "        return f\"Error: {str(e)}\"\n",
    "\n",
    "# Test the endpoint connection\n",
    "test_response = invoke_endpoint(\"Hello, can you help with cybersecurity?\", max_new_tokens=50)\n",
    "print(\"Test Response:\")\n",
    "print(test_response)"
   ]
  },
  {
   "cell_type": "markdown",
   "metadata": {
    "id": "-2XV1flWD-qM"
   },
   "source": [
    "## Config Assessment"
   ]
  },
  {
   "cell_type": "markdown",
   "metadata": {
    "id": "BY5Wyux1EhVQ"
   },
   "source": [
    "Here’s a mock configuration for a Linux-based SSH server:"
   ]
  },
  {
   "cell_type": "code",
   "execution_count": 5,
   "metadata": {
    "id": "Obe30-VYESs6"
   },
   "outputs": [],
   "source": [
    "config_text = \"\"\"\n",
    "provider \"google\" {\n",
    "  project = \"my-project\"\n",
    "  region  = \"us-central1\"\n",
    "}\n",
    "\n",
    "resource \"google_compute_network\" \"default\" {\n",
    "  name                    = \"default-network\"\n",
    "  auto_create_subnetworks = true\n",
    "}\n",
    "\n",
    "resource \"google_compute_firewall\" \"allow_all_inbound\" {\n",
    "  name    = \"allow-all-inbound\"\n",
    "  network = google_compute_network.default.name\n",
    "\n",
    "  direction = \"INGRESS\"\n",
    "  priority  = 1000\n",
    "\n",
    "  allows {\n",
    "    protocol = \"tcp\"\n",
    "    ports    = [\"0-65535\"]\n",
    "  }\n",
    "\n",
    "  allows {\n",
    "    protocol = \"udp\"\n",
    "    ports    = [\"0-65535\"]\n",
    "  }\n",
    "\n",
    "  source_ranges = [\"0.0.0.0/0\"]\n",
    "\n",
    "  target_tags = [\"web\"]\n",
    "  description = \"Allow all inbound traffic from any IP on all ports\"\n",
    "}\n",
    "\"\"\"\n"
   ]
  },
  {
   "cell_type": "code",
   "execution_count": 6,
   "metadata": {},
   "outputs": [],
   "source": [
    "def make_prompt(config_text):\n",
    "   return f\"\"\"You are a security auditor reviewing the configuration of a Terraform configuration file for security issues.\n",
    "    \n",
    "    Go over the following configuration line-by-line and assess it for:\n",
    "    1. Security misconfigurations\n",
    "    2. Weak or deprecated settings\n",
    "    3. Missing best practices\n",
    "    \n",
    "    ## CONFIGURATION\n",
    "    {config_text}\n",
    "    \n",
    "    Respond with:\n",
    "    - Detected misconfiguration\n",
    "    - Severity (Low/Medium/High)\n",
    "    - Recommended fix\n",
    "    \"\"\""
   ]
  },
  {
   "cell_type": "code",
   "execution_count": 7,
   "metadata": {
    "id": "7q9yZevyEi8b"
   },
   "outputs": [
    {
     "data": {
      "text/markdown": [
       "## Configuration Review\n",
       "\n",
       "### Line by Line Analysis:\n",
       "\n",
       "**Line 1:**\n",
       "```hcl\n",
       "provider \"google\" {\n",
       "  project = \"my-project\"\n",
       "  region  = \"us-central1\"\n",
       "}\n",
       "```\n",
       "* **Security Misconfiguration:** The provider is configured to use a specific project ID (\"my-project\") which might be visible in your Terraform state files, potentially exposing this information if shared or committed into version control. However, since this is a common practice when using GCP, unless there's an explicit need to hide the project ID, this isn't considered high risk here.\n",
       "   * **Severity:** Low\n",
       "   * **Recommended Fix:** If sensitive data like project IDs should not be exposed, consider using environment variables or secrets management tools like Vault.\n",
       "\n",
       "**Line 5-7:**\n",
       "```hcl\n",
       "resource \"google_compute_network\" \"default\" {\n",
       "  name                    = \"default-network\"\n",
       "  auto_create_subnetworks = true\n",
       "}\n",
       "```\n",
       "* **Best Practice Violation:** Enabling `auto_create_subnetworks` can lead to unintended resources being created automatically. For example, creating default subnets that could allow unauthorized access if left unmonitored. It's better to manage subnet creation explicitly rather than relying on automatic defaults.\n",
       "   * **Severity:** Medium\n",
       "   * **Recommended Fix:** Set `auto_create_subnetworks` to false and create subnetworks as needed manually. This ensures more controlled resource management.\n",
       "\n",
       "**Lines 9-22:**\n",
       "```hcl\n",
       "resource \"google_compute_firewall\" \"allow_all_inbound\" {\n",
       " ...\n",
       "  source_ranges = [\"0.0.0.0/0\"] # Allows ingress from anywhere\n",
       " ...\n",
       "}\n",
       "```\n",
       "* **Security Misconfiguration:** Allowing all inbound traffic (`source_ranges = \"0.0.0.0/0\"`) exposes services to every possible IP address. Unless intentionally open to the world, this rule poses significant security risks.\n",
       "   * **Severity:** High\n",
       "   * **Recommended Fix:** Restrict `source_ranges` to only necessary IPs/CIDRs instead of allowing all. Use VPC peering, Cloud VPN, or similar mechanisms if you must accept traffic from external networks but limit it to known good sources. Also, ensure that the service tagged with 'web' is properly secured elsewhere (e.g., behind a load balancer).\n",
       "\n",
       "**Additional Notes:**\n",
       "\n",
       "- **Weak or Deprecated Settings:** No deprecated settings found in the provided code snippet. Always check documentation for latest versions and deprecations.\n",
       "  \n",
       "- **Missing Best Practices:**\n",
       "  - Lack of IAM controls: Resource permissions aren’t specified; make sure appropriate roles are assigned via policies.\n",
       "  - Logging & Monitoring: Ensure proper logging and monitoring are set up to detect anomalies (not shown in config).\n",
       "  - Network Segmentation: Not evident whether other segments exist; review overall architecture for segmentation.\n",
       "  - Version Control: Avoid committing credentials or sensitive info into TF files; use secret managers instead.\n",
       "\n",
       "In summary, while some configurations may require adjustments based on specific needs, the identified issues above represent potential vulnerabilities or deviations from best practices."
      ],
      "text/plain": [
       "<IPython.core.display.Markdown object>"
      ]
     },
     "metadata": {},
     "output_type": "display_data"
    }
   ],
   "source": [
    "response = invoke_endpoint(make_prompt(config_text))\n",
    "display(Markdown(response))"
   ]
  }
 ],
 "metadata": {
  "colab": {
   "provenance": []
  },
  "kernelspec": {
   "display_name": "Python 3 (ipykernel)",
   "language": "python",
   "name": "python3"
  },
  "language_info": {
   "codemirror_mode": {
    "name": "ipython",
    "version": 3
   },
   "file_extension": ".py",
   "mimetype": "text/x-python",
   "name": "python",
   "nbconvert_exporter": "python",
   "pygments_lexer": "ipython3",
   "version": "3.10.12"
  }
 },
 "nbformat": 4,
 "nbformat_minor": 4
}
