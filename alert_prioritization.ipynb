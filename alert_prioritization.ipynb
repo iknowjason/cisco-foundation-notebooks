{
 "cells": [
  {
   "cell_type": "markdown",
   "metadata": {},
   "source": [
    "# Alert Prioritization Use Case\n",
    "Automating the prioritization of critical alerts from a large volume of security alerts using SageMaker endpoint.\n",
    "\n",
    "**Note**: Update the `endpoint_name` and `aws_region` variables below to match your deployment."
   ]
  },
  {
   "cell_type": "markdown",
   "metadata": {},
   "source": [
    "## Configuration\n",
    "Update these variables to match your SageMaker deployment:"
   ]
  },
  {
   "cell_type": "code",
   "execution_count": null,
   "metadata": {},
   "outputs": [],
   "source": [
    "# UPDATE THESE VARIABLES TO MATCH YOUR DEPLOYMENT\n",
    "endpoint_name = 'foundation-sec-8b-endpoint'  # Your SageMaker endpoint name\n",
    "aws_region = 'us-east-1'  # Your AWS region\n",
    "\n",
    "print(f\"Configuration:\")\n",
    "print(f\"Endpoint: {endpoint_name}\")\n",
    "print(f\"Region: {aws_region}\")"
   ]
  },
  {
   "cell_type": "code",
   "execution_count": null,
   "metadata": {},
   "outputs": [],
   "source": [
    "import boto3\n",
    "import json\n",
    "import pandas as pd\n",
    "from datetime import datetime\n",
    "from IPython.display import display, Markdown\n",
    "\n",
    "# Initialize SageMaker runtime client\n",
    "sagemaker_runtime = boto3.client('sagemaker-runtime', region_name=aws_region)\n",
    "\n",
    "print(f\"Connected to SageMaker endpoint: {endpoint_name}\")"
   ]
  },
  {
   "cell_type": "code",
   "execution_count": null,
   "metadata": {},
   "outputs": [],
   "source": [
    "def invoke_endpoint(prompt, max_new_tokens=1024, temperature=0.3):\n",
    "    \"\"\"Invoke the SageMaker endpoint with the given prompt\"\"\"\n",
    "    payload = {\n",
    "        \"inputs\": prompt,\n",
    "        \"parameters\": {\n",
    "            \"max_new_tokens\": max_new_tokens,\n",
    "            \"temperature\": temperature,\n",
    "            \"do_sample\": temperature > 0,\n",
    "            \"repetition_penalty\": 1.2\n",
    "        }\n",
    "    }\n",
    "    \n",
    "    try:\n",
    "        response = sagemaker_runtime.invoke_endpoint(\n",
    "            EndpointName=endpoint_name,\n",
    "            ContentType='application/json',\n",
    "            Body=json.dumps(payload)\n",
    "        )\n",
    "        \n",
    "        result = json.loads(response['Body'].read().decode())\n",
    "        \n",
    "        # Handle different response formats from TGI\n",
    "        if isinstance(result, list) and len(result) > 0:\n",
    "            return result[0].get('generated_text', str(result))\n",
    "        elif isinstance(result, dict):\n",
    "            return result.get('generated_text', str(result))\n",
    "        else:\n",
    "            return str(result)\n",
    "            \n",
    "    except Exception as e:\n",
    "        print(f\"Error invoking endpoint: {str(e)}\")\n",
    "        return f\"Error: {str(e)}\"\n",
    "\n",
    "# Test the endpoint connection\n",
    "test_response = invoke_endpoint(\"Hello, can you help with cybersecurity?\", max_new_tokens=50)\n",
    "print(\"Test Response:\")\n",
    "print(test_response)"
   ]
  },
  {
   "cell_type": "markdown",
   "metadata": {},
   "source": [
    "## Sample Security Alerts\n",
    "Here are mock security alerts to analyze:"
   ]
  },
  {
   "cell_type": "code",
   "execution_count": null,
   "metadata": {},
   "outputs": [],
   "source": [
    "alerts = \"\"\"\n",
    "{\n",
    "\"alert_uuid\": \"3a4bd7e4-f8a2-4b7e-9d3b-7e2fa3f98b6c\",\n",
    "\"timestamp\": \"2025-07-15T10:55:00Z\",\n",
    "\"user\": \"security_admin\",\n",
    "\"source_ip\": \"198.51.100.33\",\n",
    "\"message\": \"The host at 198.51.100.33 has been permanently added to the ssh allowed list.\",\n",
    "\"code\": \"SEC3007\"\n",
    "},\n",
    "{\n",
    "\"alert_uuid\": \"d7e4f8a2-9b3c-4f1e-8a7d-2b6c9f1e3a4b\",\n",
    "\"timestamp\": \"2025-07-15T10:05:33Z\",\n",
    "\"user\": \"automation_bot\",\n",
    "\"source_ip\": \"192.168.1.20\",\n",
    "\"message\": \"Startup script backup_script.sh exited with error: Disk quota exceeded. System services failed to start, causing immediate operational outage.\",\n",
    "\"code\": \"SYS2002\"\n",
    "},\n",
    "{\n",
    "\"alert_uuid\": \"f1a6c8b9-d2b7-4c1e-9d3b-7e2fa3f98b6c\",\n",
    "\"timestamp\": \"2025-07-15T10:15:00Z\",\n",
    "\"user\": \"unknown\",\n",
    "\"source_ip\": \"203.0.113.45\",\n",
    "\"message\": \"The host at 203.0.113.45 has been added to the blocked list because of an SSH DOS attack.\",\n",
    "\"code\": \"SEC3003\"\n",
    "},\n",
    "{\n",
    "\"alert_uuid\": \"e2f1a6c8-b9d3-4c1e-9d3b-7e2fa3f98b6c\",\n",
    "\"timestamp\": \"2025-07-15T10:35:00Z\",\n",
    "\"user\": \"jdoe\",\n",
    "\"source_ip\": \"198.51.100.22\",\n",
    "\"message\": \"Account locked due to 5 failed login attempts. Last login attempt from 198.51.100.22.\",\n",
    "\"code\": \"SEC3006\"\n",
    "},\n",
    "{\n",
    "\"alert_uuid\": \"c8b9d3a4-b7e2-4f1e-9d3b-7e2fa3f98b6c\",\n",
    "\"timestamp\": \"2025-07-15T10:30:12Z\",\n",
    "\"user\": \"app_service\",\n",
    "\"source_ip\": \"192.168.1.30\",\n",
    "\"message\": \"An application fault occurred: segmentation fault in module auth_handler.\",\n",
    "\"code\": \"APP4005\"\n",
    "}\n",
    "\"\"\""
   ]
  },
  {
   "cell_type": "code",
   "execution_count": null,
   "metadata": {},
   "outputs": [],
   "source": [
    "def make_prompt(alerts):\n",
    "    return f\"\"\"You are a security expert in charge of analyzing security alerts and prioritizing critical ones.\n",
    "    \n",
    "    Analyze the alerts below and prioritize which ones are critical.\n",
    "    \n",
    "    ## ALERTS\n",
    "    {alerts}\n",
    "    \n",
    "    Provide your response with:\n",
    "    - Which alerts are CRITICAL and why\n",
    "    - Which alerts are HIGH priority and why\n",
    "    - Recommended immediate actions for critical alerts\n",
    "    - Summary of overall threat landscape\n",
    "    \n",
    "    Format your response with clear headings and bullet points.\n",
    "    \"\"\""
   ]
  },
  {
   "cell_type": "markdown",
   "metadata": {},
   "source": [
    "## Alert Analysis"
   ]
  },
  {
   "cell_type": "code",
   "execution_count": null,
   "metadata": {},
   "outputs": [],
   "source": [
    "# Analyze all alerts together\n",
    "print(\"=== COMPREHENSIVE ALERT ANALYSIS ===\")\n",
    "response = invoke_endpoint(make_prompt(alerts), max_new_tokens=1500, temperature=0.1)\n",
    "display(Markdown(response))"
   ]
  },
  {
   "cell_type": "markdown",
   "metadata": {},
   "source": [
    "## Individual Alert Analysis\n",
    "Let's analyze each alert individually for detailed insights:"
   ]
  },
  {
   "cell_type": "code",
   "execution_count": null,
   "metadata": {},
   "outputs": [],
   "source": [
    "import json as json_module\n",
    "\n",
    "# Parse individual alerts\n",
    "alert_list = []\n",
    "for line in alerts.strip().split('\\n'):\n",
    "    if line.strip() and line.strip() != ',' and line.strip().startswith('{'):\n",
    "        try:\n",
    "            clean_line = line.strip().rstrip(',')\n",
    "            alert = json_module.loads(clean_line)\n",
    "            alert_list.append(alert)\n",
    "        except:\n",
    "            continue\n",
    "\n",
    "print(f\"Found {len(alert_list)} alerts to analyze individually\\n\")\n",
    "\n",
    "# Analyze each alert\n",
    "for i, alert in enumerate(alert_list):\n",
    "    individual_prompt = f\"\"\"Analyze this single security alert:\n",
    "    \n",
    "    Alert Details:\n",
    "    - UUID: {alert['alert_uuid']}\n",
    "    - Time: {alert['timestamp']}\n",
    "    - User: {alert['user']}\n",
    "    - Source IP: {alert['source_ip']}\n",
    "    - Code: {alert['code']}\n",
    "    - Message: {alert['message']}\n",
    "    \n",
    "    Provide:\n",
    "    1. Risk Level: Critical/High/Medium/Low\n",
    "    2. Threat Category\n",
    "    3. Potential Impact\n",
    "    4. Immediate Actions Required\n",
    "    \n",
    "    Be concise but thorough.\"\"\"\n",
    "    \n",
    "    response = invoke_endpoint(individual_prompt, max_new_tokens=300, temperature=0.1)\n",
    "    \n",
    "    print(f\"=== Alert {i+1}: {alert['code']} ===\")\n",
    "    print(f\"Message: {alert['message']}\")\n",
    "    print(f\"\\nAI Analysis:\")\n",
    "    print(response)\n",
    "    print(\"-\" * 80)\n",
    "    print()"
   ]
  },
  {
   "cell_type": "markdown",
   "metadata": {},
   "source": [
    "## Custom Alert Analysis\n",
    "Add your own alerts here for analysis:"
   ]
  },
  {
   "cell_type": "code",
   "execution_count": null,
   "metadata": {},
   "outputs": [],
   "source": [
    "# Add your custom alert here\n",
    "custom_alert = \"Multiple failed SSH login attempts from IP 10.0.0.15 targeting admin accounts\"\n",
    "\n",
    "custom_prompt = f\"\"\"Analyze this security event and provide a risk assessment:\n",
    "\n",
    "Event: {custom_alert}\n",
    "\n",
    "Provide risk level, potential threats, and recommended actions.\"\"\"\n",
    "\n",
    "custom_response = invoke_endpoint(custom_prompt, max_new_tokens=200, temperature=0.2)\n",
    "print(\"=== Custom Alert Analysis ===\")\n",
    "print(f\"Event: {custom_alert}\")\n",
    "print(f\"\\nAnalysis:\")\n",
    "print(custom_response)"
   ]
  }
 ],
 "metadata": {
  "kernelspec": {
   "display_name": "Python 3 (ipykernel)",
   "language": "python",
   "name": "python3"
  },
  "language_info": {
   "codemirror_mode": {
    "name": "ipython",
    "version": 3
   },
   "file_extension": ".py",
   "mimetype": "text/x-python",
   "name": "python",
   "nbconvert_exporter": "python",
   "pygments_lexer": "ipython3",
   "version": "3.10.12"
  }
 },
 "nbformat": 4,
 "nbformat_minor": 4
}
